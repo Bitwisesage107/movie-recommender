{
  "nbformat": 4,
  "nbformat_minor": 0,
  "metadata": {
    "colab": {
      "provenance": []
    },
    "kernelspec": {
      "name": "python3",
      "display_name": "Python 3"
    },
    "language_info": {
      "name": "python"
    }
  },
  "cells": [
    {
      "cell_type": "markdown",
      "metadata": {
        "id": "9866dfe1"
      },
      "source": [
        "# Movie Recommendation System\n",
        "\n",
        "This notebook demonstrates the process of building a content-based movie recommendation system using the TMDB 5000 Movie Dataset. The system recommends movies based on the similarity of their content, including genres, keywords, cast, and crew.\n",
        "\n",
        "## Table of Contents\n",
        "\n",
        "1.  [Loading the Data](#loading-the-data)\n",
        "2.  [Merging the DataFrames](#merging-the-dataframes)\n",
        "3.  [Data Inspection](#data-inspection)\n",
        "4.  [Filtering Relevant Columns](#filtering-relevant-columns)\n",
        "5.  [Handling Missing Values](#handling-missing-values)\n",
        "6.  [Checking for Duplicates](#checking-for-duplicates)\n",
        "7.  [Extracting Information from JSON Strings](#extracting-information-from-json-strings)\n",
        "8.  [Cleaning and Combining Tags](#cleaning-and-combining-tags)\n",
        "9.  [Creating a New DataFrame with Essential Information](#creating-a-new-dataframe-with-essential-information)\n",
        "10. [Lowercasing and Joining Tags](#lowercasing-and-joining-tags)\n",
        "11. [Text Stemming](#text-stemming)\n",
        "12. [Vectorizing Text Data](#vectorizing-text-data)\n",
        "13. [Calculating Cosine Similarity](#calculating-cosine-similarity)\n",
        "14. [Creating a Recommendation Function](#creating-a-recommendation-function)\n",
        "15. [Testing the Recommendation Function](#testing-the-recommendation-function)"
      ]
    },
    {
      "cell_type": "markdown",
      "metadata": {
        "id": "f4231b74"
      },
      "source": [
        "## 1. Loading the Data\n",
        "\n",
        "We begin by loading the two datasets: `tmdb_5000_movies.csv` and `tmdb_5000_credits.csv` into pandas DataFrames. These datasets contain information about movies and their corresponding cast and crew."
      ]
    },
    {
      "cell_type": "code",
      "metadata": {
        "colab": {
          "base_uri": "https://localhost:8080/"
        },
        "id": "369c5ed3",
        "outputId": "e2802ec3-6139-47c8-a4c1-c1b5bcbe8bf1"
      },
      "source": [
        "import pandas as pd\n",
        "import numpy as np\n",
        "import ast\n",
        "from google.colab import drive"
      ],
      "execution_count": 33,
      "outputs": [
        {
          "output_type": "stream",
          "name": "stdout",
          "text": [
            "Drive already mounted at /content/drive; to attempt to forcibly remount, call drive.mount(\"/content/drive\", force_remount=True).\n"
          ]
        }
      ]
    },
    {
      "cell_type": "code",
      "metadata": {
        "id": "155d57fb"
      },
      "source": [
        "movies = pd.read_csv('tmdb_5000_movies.csv')\n",
        "credits = pd.read_csv('tmdb_5000_credits.csv')"
      ],
      "execution_count": 34,
      "outputs": []
    },
    {
      "cell_type": "markdown",
      "metadata": {
        "id": "6e291ee3"
      },
      "source": [
        "## 2. Merging the DataFrames\n",
        "\n",
        "To combine the movie information with the cast and crew details, we merge the `movies` and `credits` DataFrames based on the 'title' column."
      ]
    },
    {
      "cell_type": "code",
      "metadata": {
        "id": "7d1f5c1d"
      },
      "source": [
        "movies = movies.merge(credits, on='title')"
      ],
      "execution_count": 35,
      "outputs": []
    },
    {
      "cell_type": "markdown",
      "metadata": {
        "id": "71e44ed6"
      },
      "source": [
        "## 3. Data Inspection\n",
        "\n",
        "Before proceeding, we inspect the merged DataFrame to understand its structure and identify any potential issues. We check the shape of the DataFrame and examine the distribution of the 'status' column."
      ]
    },
    {
      "cell_type": "code",
      "metadata": {
        "colab": {
          "base_uri": "https://localhost:8080/"
        },
        "id": "2a7f6e7c",
        "outputId": "cc9b3f79-0d08-4f1e-e2cb-21991db56ae9"
      },
      "source": [
        "print(\"Shape of the merged DataFrame:\", movies.shape)\n",
        "print(\"\\nValue counts for 'status' column:\")\n",
        "print(movies['status'].value_counts())\n",
        "print(\"\\nInformation about the DataFrame:\")\n",
        "print(movies.info())"
      ],
      "execution_count": 36,
      "outputs": [
        {
          "output_type": "stream",
          "name": "stdout",
          "text": [
            "Shape of the merged DataFrame: (4809, 23)\n",
            "\n",
            "Value counts for 'status' column:\n",
            "status\n",
            "Released           4801\n",
            "Rumored               5\n",
            "Post Production       3\n",
            "Name: count, dtype: int64\n",
            "\n",
            "Information about the DataFrame:\n",
            "<class 'pandas.core.frame.DataFrame'>\n",
            "RangeIndex: 4809 entries, 0 to 4808\n",
            "Data columns (total 23 columns):\n",
            " #   Column                Non-Null Count  Dtype  \n",
            "---  ------                --------------  -----  \n",
            " 0   budget                4809 non-null   int64  \n",
            " 1   genres                4809 non-null   object \n",
            " 2   homepage              1713 non-null   object \n",
            " 3   id                    4809 non-null   int64  \n",
            " 4   keywords              4809 non-null   object \n",
            " 5   original_language     4809 non-null   object \n",
            " 6   original_title        4809 non-null   object \n",
            " 7   overview              4806 non-null   object \n",
            " 8   popularity            4809 non-null   float64\n",
            " 9   production_companies  4809 non-null   object \n",
            " 10  production_countries  4809 non-null   object \n",
            " 11  release_date          4808 non-null   object \n",
            " 12  revenue               4809 non-null   int64  \n",
            " 13  runtime               4807 non-null   float64\n",
            " 14  spoken_languages      4809 non-null   object \n",
            " 15  status                4809 non-null   object \n",
            " 16  tagline               3965 non-null   object \n",
            " 17  title                 4809 non-null   object \n",
            " 18  vote_average          4809 non-null   float64\n",
            " 19  vote_count            4809 non-null   int64  \n",
            " 20  movie_id              4809 non-null   int64  \n",
            " 21  cast                  4809 non-null   object \n",
            " 22  crew                  4809 non-null   object \n",
            "dtypes: float64(3), int64(5), object(15)\n",
            "memory usage: 864.2+ KB\n",
            "None\n"
          ]
        }
      ]
    },
    {
      "cell_type": "markdown",
      "metadata": {
        "id": "d56e88f1"
      },
      "source": [
        "## 4. Filtering Relevant Columns\n",
        "\n",
        "For our content-based recommendation system, we only need a subset of the columns. We select 'movie_id', 'title', 'overview', 'genres', 'keywords', 'cast', and 'crew'."
      ]
    },
    {
      "cell_type": "code",
      "metadata": {
        "colab": {
          "base_uri": "https://localhost:8080/"
        },
        "id": "d84f5fdf",
        "outputId": "eaf2fc5b-255e-4599-b786-32aa30fc73e1"
      },
      "source": [
        "movies = movies[['movie_id', 'title', 'overview', 'genres', 'keywords', 'cast', 'crew']]\n",
        "print(\"\\nDataFrame after filtering columns:\")\n",
        "print(movies.head())"
      ],
      "execution_count": 37,
      "outputs": [
        {
          "output_type": "stream",
          "name": "stdout",
          "text": [
            "\n",
            "DataFrame after filtering columns:\n",
            "   movie_id                                     title  \\\n",
            "0     19995                                    Avatar   \n",
            "1       285  Pirates of the Caribbean: At World's End   \n",
            "2    206647                                   Spectre   \n",
            "3     49026                     The Dark Knight Rises   \n",
            "4     49529                               John Carter   \n",
            "\n",
            "                                            overview  \\\n",
            "0  In the 22nd century, a paraplegic Marine is di...   \n",
            "1  Captain Barbossa, long believed to be dead, ha...   \n",
            "2  A cryptic message from Bond’s past sends him o...   \n",
            "3  Following the death of District Attorney Harve...   \n",
            "4  John Carter is a war-weary, former military ca...   \n",
            "\n",
            "                                              genres  \\\n",
            "0  [{\"id\": 28, \"name\": \"Action\"}, {\"id\": 12, \"nam...   \n",
            "1  [{\"id\": 12, \"name\": \"Adventure\"}, {\"id\": 14, \"...   \n",
            "2  [{\"id\": 28, \"name\": \"Action\"}, {\"id\": 12, \"nam...   \n",
            "3  [{\"id\": 28, \"name\": \"Action\"}, {\"id\": 80, \"nam...   \n",
            "4  [{\"id\": 28, \"name\": \"Action\"}, {\"id\": 12, \"nam...   \n",
            "\n",
            "                                            keywords  \\\n",
            "0  [{\"id\": 1463, \"name\": \"culture clash\"}, {\"id\":...   \n",
            "1  [{\"id\": 270, \"name\": \"ocean\"}, {\"id\": 726, \"na...   \n",
            "2  [{\"id\": 470, \"name\": \"spy\"}, {\"id\": 818, \"name...   \n",
            "3  [{\"id\": 849, \"name\": \"dc comics\"}, {\"id\": 853,...   \n",
            "4  [{\"id\": 818, \"name\": \"based on novel\"}, {\"id\":...   \n",
            "\n",
            "                                                cast  \\\n",
            "0  [{\"cast_id\": 242, \"character\": \"Jake Sully\", \"...   \n",
            "1  [{\"cast_id\": 4, \"character\": \"Captain Jack Spa...   \n",
            "2  [{\"cast_id\": 1, \"character\": \"James Bond\", \"cr...   \n",
            "3  [{\"cast_id\": 2, \"character\": \"Bruce Wayne / Ba...   \n",
            "4  [{\"cast_id\": 5, \"character\": \"John Carter\", \"c...   \n",
            "\n",
            "                                                crew  \n",
            "0  [{\"credit_id\": \"52fe48009251416c750aca23\", \"de...  \n",
            "1  [{\"credit_id\": \"52fe4232c3a36847f800b579\", \"de...  \n",
            "2  [{\"credit_id\": \"54805967c3a36829b5002c41\", \"de...  \n",
            "3  [{\"credit_id\": \"52fe4781c3a36847f81398c3\", \"de...  \n",
            "4  [{\"credit_id\": \"52fe479ac3a36847f813eaa3\", \"de...  \n"
          ]
        }
      ]
    },
    {
      "cell_type": "markdown",
      "metadata": {
        "id": "5d06a438"
      },
      "source": [
        "## 5. Handling Missing Values\n",
        "\n",
        "We check for and remove any rows with missing values in the selected columns to ensure data quality and prevent errors during subsequent processing."
      ]
    },
    {
      "cell_type": "code",
      "metadata": {
        "colab": {
          "base_uri": "https://localhost:8080/"
        },
        "id": "f05fbe1a",
        "outputId": "628c8ed7-d739-4a42-a374-6c5b38aa7910"
      },
      "source": [
        "print(\"Number of missing values before dropping:\")\n",
        "print(movies.isnull().sum())\n",
        "movies.dropna(inplace=True)\n",
        "print(\"\\nNumber of missing values after dropping:\")\n",
        "print(movies.isnull().sum())"
      ],
      "execution_count": 38,
      "outputs": [
        {
          "output_type": "stream",
          "name": "stdout",
          "text": [
            "Number of missing values before dropping:\n",
            "movie_id    0\n",
            "title       0\n",
            "overview    3\n",
            "genres      0\n",
            "keywords    0\n",
            "cast        0\n",
            "crew        0\n",
            "dtype: int64\n",
            "\n",
            "Number of missing values after dropping:\n",
            "movie_id    0\n",
            "title       0\n",
            "overview    0\n",
            "genres      0\n",
            "keywords    0\n",
            "cast        0\n",
            "crew        0\n",
            "dtype: int64\n"
          ]
        }
      ]
    },
    {
      "cell_type": "markdown",
      "metadata": {
        "id": "aa94b8f4"
      },
      "source": [
        "## 6. Checking for Duplicates\n",
        "\n",
        "We verify that there are no duplicate rows in the filtered DataFrame. Duplicate rows can skew the recommendation results."
      ]
    },
    {
      "cell_type": "code",
      "metadata": {
        "colab": {
          "base_uri": "https://localhost:8080/"
        },
        "id": "1021b456",
        "outputId": "c958b10f-bcd2-4127-a8ce-2599b210489a"
      },
      "source": [
        "print(\"Number of duplicate rows:\", movies.duplicated().sum())"
      ],
      "execution_count": 39,
      "outputs": [
        {
          "output_type": "stream",
          "name": "stdout",
          "text": [
            "Number of duplicate rows: 0\n"
          ]
        }
      ]
    },
    {
      "cell_type": "markdown",
      "metadata": {
        "id": "00cf2f1b"
      },
      "source": [
        "## 7. Extracting Information from JSON Strings\n",
        "\n",
        "Several columns ('genres', 'keywords', 'cast', and 'crew') contain data in JSON string format. We need to convert these strings into Python lists of dictionaries and extract the relevant information. For 'genres' and 'keywords', we extract the 'name'. For 'cast', we extract the 'name' of the first 3 cast members. For 'crew', we extract the 'name' of the director."
      ]
    },
    {
      "cell_type": "code",
      "metadata": {
        "colab": {
          "base_uri": "https://localhost:8080/"
        },
        "id": "caff56a1",
        "outputId": "2c44b166-6cc4-48ff-b4a3-d932c0d7637d"
      },
      "source": [
        "movies['genres'] = movies['genres'].apply(lambda x: [i['name'] for i in ast.literal_eval(x)])\n",
        "movies['keywords'] = movies['keywords'].apply(lambda x: [i['name'] for i in ast.literal_eval(x)])\n",
        "movies['cast'] = movies['cast'].apply(lambda x: [i['name'] for i in ast.literal_eval(x)][:3]) # Extracting only the first 3 cast members\n",
        "movies['crew'] = movies['crew'].apply(lambda x: [i['name'] for i in ast.literal_eval(x) if i['job'] == 'Director']) # Extracting only the director's name\n",
        "\n",
        "print(\"\\nDataFrame after extracting information from JSON strings:\")\n",
        "print(movies.head())"
      ],
      "execution_count": 24,
      "outputs": [
        {
          "output_type": "stream",
          "name": "stdout",
          "text": [
            "\n",
            "DataFrame after extracting information from JSON strings:\n",
            "   movie_id                                     title  \\\n",
            "0     19995                                    Avatar   \n",
            "1       285  Pirates of the Caribbean: At World's End   \n",
            "2    206647                                   Spectre   \n",
            "3     49026                     The Dark Knight Rises   \n",
            "4     49529                               John Carter   \n",
            "\n",
            "                                            overview  \\\n",
            "0  In the 22nd century, a paraplegic Marine is di...   \n",
            "1  Captain Barbossa, long believed to be dead, ha...   \n",
            "2  A cryptic message from Bond’s past sends him o...   \n",
            "3  Following the death of District Attorney Harve...   \n",
            "4  John Carter is a war-weary, former military ca...   \n",
            "\n",
            "                                          genres  \\\n",
            "0  [Action, Adventure, Fantasy, Science Fiction]   \n",
            "1                   [Adventure, Fantasy, Action]   \n",
            "2                     [Action, Adventure, Crime]   \n",
            "3               [Action, Crime, Drama, Thriller]   \n",
            "4           [Action, Adventure, Science Fiction]   \n",
            "\n",
            "                                            keywords  \\\n",
            "0  [culture clash, future, space war, space colon...   \n",
            "1  [ocean, drug abuse, exotic island, east india ...   \n",
            "2  [spy, based on novel, secret agent, sequel, mi...   \n",
            "3  [dc comics, crime fighter, terrorist, secret i...   \n",
            "4  [based on novel, mars, medallion, space travel...   \n",
            "\n",
            "                                               cast                 crew  \n",
            "0  [Sam Worthington, Zoe Saldana, Sigourney Weaver]      [James Cameron]  \n",
            "1     [Johnny Depp, Orlando Bloom, Keira Knightley]     [Gore Verbinski]  \n",
            "2      [Daniel Craig, Christoph Waltz, Léa Seydoux]         [Sam Mendes]  \n",
            "3      [Christian Bale, Michael Caine, Gary Oldman]  [Christopher Nolan]  \n",
            "4    [Taylor Kitsch, Lynn Collins, Samantha Morton]     [Andrew Stanton]  \n"
          ]
        }
      ]
    },
    {
      "cell_type": "markdown",
      "metadata": {
        "id": "bbb89c7e"
      },
      "source": [
        "## 8. Cleaning and Combining Tags\n",
        "\n",
        "To create a unified representation for each movie, we clean the extracted lists by removing spaces from the elements and then combine the 'overview' (split into words), 'genres', 'keywords', 'cast', and 'crew' lists into a single 'tags' column."
      ]
    },
    {
      "cell_type": "code",
      "metadata": {
        "colab": {
          "base_uri": "https://localhost:8080/"
        },
        "id": "f82f4aa0",
        "outputId": "4c35d565-e11b-43ce-f2b5-e36a180e8bb2"
      },
      "source": [
        "movies['overview'] = movies['overview'].apply(lambda x: x.split())\n",
        "movies['genres'] = movies['genres'].apply(lambda x: [i.replace(' ', '') for i in x])\n",
        "movies['keywords'] = movies['keywords'].apply(lambda x: [i.replace(' ', '') for i in x])\n",
        "movies['cast'] = movies['cast'].apply(lambda x: [i.replace(' ', '') for i in x])\n",
        "movies['crew'] = movies['crew'].apply(lambda x: [i.replace(' ', '') for i in x])\n",
        "\n",
        "movies['tags'] = movies['overview'] + movies['genres'] + movies['keywords'] + movies['cast'] + movies['crew']\n",
        "\n",
        "print(\"\\nDataFrame after cleaning and combining tags:\")\n",
        "print(movies.head())"
      ],
      "execution_count": 25,
      "outputs": [
        {
          "output_type": "stream",
          "name": "stdout",
          "text": [
            "\n",
            "DataFrame after cleaning and combining tags:\n",
            "   movie_id                                     title  \\\n",
            "0     19995                                    Avatar   \n",
            "1       285  Pirates of the Caribbean: At World's End   \n",
            "2    206647                                   Spectre   \n",
            "3     49026                     The Dark Knight Rises   \n",
            "4     49529                               John Carter   \n",
            "\n",
            "                                            overview  \\\n",
            "0  [In, the, 22nd, century,, a, paraplegic, Marin...   \n",
            "1  [Captain, Barbossa,, long, believed, to, be, d...   \n",
            "2  [A, cryptic, message, from, Bond’s, past, send...   \n",
            "3  [Following, the, death, of, District, Attorney...   \n",
            "4  [John, Carter, is, a, war-weary,, former, mili...   \n",
            "\n",
            "                                         genres  \\\n",
            "0  [Action, Adventure, Fantasy, ScienceFiction]   \n",
            "1                  [Adventure, Fantasy, Action]   \n",
            "2                    [Action, Adventure, Crime]   \n",
            "3              [Action, Crime, Drama, Thriller]   \n",
            "4           [Action, Adventure, ScienceFiction]   \n",
            "\n",
            "                                            keywords  \\\n",
            "0  [cultureclash, future, spacewar, spacecolony, ...   \n",
            "1  [ocean, drugabuse, exoticisland, eastindiatrad...   \n",
            "2  [spy, basedonnovel, secretagent, sequel, mi6, ...   \n",
            "3  [dccomics, crimefighter, terrorist, secretiden...   \n",
            "4  [basedonnovel, mars, medallion, spacetravel, p...   \n",
            "\n",
            "                                            cast                crew  \\\n",
            "0  [SamWorthington, ZoeSaldana, SigourneyWeaver]      [JamesCameron]   \n",
            "1     [JohnnyDepp, OrlandoBloom, KeiraKnightley]     [GoreVerbinski]   \n",
            "2      [DanielCraig, ChristophWaltz, LéaSeydoux]         [SamMendes]   \n",
            "3      [ChristianBale, MichaelCaine, GaryOldman]  [ChristopherNolan]   \n",
            "4    [TaylorKitsch, LynnCollins, SamanthaMorton]     [AndrewStanton]   \n",
            "\n",
            "                                                tags  \n",
            "0  [In, the, 22nd, century,, a, paraplegic, Marin...  \n",
            "1  [Captain, Barbossa,, long, believed, to, be, d...  \n",
            "2  [A, cryptic, message, from, Bond’s, past, send...  \n",
            "3  [Following, the, death, of, District, Attorney...  \n",
            "4  [John, Carter, is, a, war-weary,, former, mili...  \n"
          ]
        }
      ]
    },
    {
      "cell_type": "markdown",
      "metadata": {
        "id": "6fd604f1"
      },
      "source": [
        "## 9. Creating a New DataFrame with Essential Information\n",
        "\n",
        "We create a new DataFrame `newdf` containing only the 'movie_id', 'title', and the newly created 'tags' column. This DataFrame will be used for vectorization and similarity calculation."
      ]
    },
    {
      "cell_type": "code",
      "metadata": {
        "colab": {
          "base_uri": "https://localhost:8080/"
        },
        "id": "ed299efe",
        "outputId": "0a0d0412-5402-4975-db07-07f11facec8b"
      },
      "source": [
        "newdf = movies[['movie_id', 'title', 'tags']]\n",
        "\n",
        "print(\"\\nNew DataFrame with essential information:\")\n",
        "print(newdf.head())"
      ],
      "execution_count": 26,
      "outputs": [
        {
          "output_type": "stream",
          "name": "stdout",
          "text": [
            "\n",
            "New DataFrame with essential information:\n",
            "   movie_id                                     title  \\\n",
            "0     19995                                    Avatar   \n",
            "1       285  Pirates of the Caribbean: At World's End   \n",
            "2    206647                                   Spectre   \n",
            "3     49026                     The Dark Knight Rises   \n",
            "4     49529                               John Carter   \n",
            "\n",
            "                                                tags  \n",
            "0  [In, the, 22nd, century,, a, paraplegic, Marin...  \n",
            "1  [Captain, Barbossa,, long, believed, to, be, d...  \n",
            "2  [A, cryptic, message, from, Bond’s, past, send...  \n",
            "3  [Following, the, death, of, District, Attorney...  \n",
            "4  [John, Carter, is, a, war-weary,, former, mili...  \n"
          ]
        }
      ]
    },
    {
      "cell_type": "markdown",
      "metadata": {
        "id": "986378e4"
      },
      "source": [
        "## 10. Lowercasing and Joining Tags\n",
        "\n",
        "We convert the 'tags' column to lowercase and join the list of words/tags into a single string separated by spaces. This standardization is important for accurate text vectorization."
      ]
    },
    {
      "cell_type": "code",
      "metadata": {
        "colab": {
          "base_uri": "https://localhost:8080/"
        },
        "id": "69dc3039",
        "outputId": "d4a9d9ab-3f7b-492c-d331-ada44700516f"
      },
      "source": [
        "newdf['tags'] = newdf['tags'].apply(lambda x: (\" \".join(x)).lower())\n",
        "\n",
        "print(\"\\nDataFrame after lowercasing and joining tags:\")\n",
        "print(newdf.head())"
      ],
      "execution_count": 27,
      "outputs": [
        {
          "output_type": "stream",
          "name": "stdout",
          "text": [
            "\n",
            "DataFrame after lowercasing and joining tags:\n",
            "   movie_id                                     title  \\\n",
            "0     19995                                    Avatar   \n",
            "1       285  Pirates of the Caribbean: At World's End   \n",
            "2    206647                                   Spectre   \n",
            "3     49026                     The Dark Knight Rises   \n",
            "4     49529                               John Carter   \n",
            "\n",
            "                                                tags  \n",
            "0  in the 22nd century, a paraplegic marine is di...  \n",
            "1  captain barbossa, long believed to be dead, ha...  \n",
            "2  a cryptic message from bond’s past sends him o...  \n",
            "3  following the death of district attorney harve...  \n",
            "4  john carter is a war-weary, former military ca...  \n"
          ]
        },
        {
          "output_type": "stream",
          "name": "stderr",
          "text": [
            "/tmp/ipython-input-2141621468.py:1: SettingWithCopyWarning: \n",
            "A value is trying to be set on a copy of a slice from a DataFrame.\n",
            "Try using .loc[row_indexer,col_indexer] = value instead\n",
            "\n",
            "See the caveats in the documentation: https://pandas.pydata.org/pandas-docs/stable/user_guide/indexing.html#returning-a-view-versus-a-copy\n",
            "  newdf['tags'] = newdf['tags'].apply(lambda x: (\" \".join(x)).lower())\n"
          ]
        }
      ]
    },
    {
      "cell_type": "markdown",
      "metadata": {
        "id": "1b50c37a"
      },
      "source": [
        "## 11. Text Stemming\n",
        "\n",
        "We apply stemming to the 'tags' column using the PorterStemmer from the NLTK library. Stemming reduces words to their root form, which helps in reducing the vocabulary size and improving the accuracy of the recommendation system by treating words with similar meanings as the same."
      ]
    },
    {
      "cell_type": "code",
      "metadata": {
        "colab": {
          "base_uri": "https://localhost:8080/"
        },
        "id": "4978e7ea",
        "outputId": "0c6eaef7-8465-4c5a-97d2-4cedd495c20f"
      },
      "source": [
        "import nltk\n",
        "from nltk.stem.porter import PorterStemmer\n",
        "\n",
        "ps = PorterStemmer()\n",
        "\n",
        "def stem(text):\n",
        "    y = []\n",
        "    for i in text.split():\n",
        "        y.append(ps.stem(i))\n",
        "    return \" \".join(y)\n",
        "\n",
        "newdf['tags'] = newdf['tags'].apply(stem)\n",
        "\n",
        "print(\"\\nDataFrame after stemming tags:\")\n",
        "print(newdf.head())"
      ],
      "execution_count": 28,
      "outputs": [
        {
          "output_type": "stream",
          "name": "stdout",
          "text": [
            "\n",
            "DataFrame after stemming tags:\n",
            "   movie_id                                     title  \\\n",
            "0     19995                                    Avatar   \n",
            "1       285  Pirates of the Caribbean: At World's End   \n",
            "2    206647                                   Spectre   \n",
            "3     49026                     The Dark Knight Rises   \n",
            "4     49529                               John Carter   \n",
            "\n",
            "                                                tags  \n",
            "0  in the 22nd century, a parapleg marin is dispa...  \n",
            "1  captain barbossa, long believ to be dead, ha c...  \n",
            "2  a cryptic messag from bond’ past send him on a...  \n",
            "3  follow the death of district attorney harvey d...  \n",
            "4  john carter is a war-weary, former militari ca...  \n"
          ]
        },
        {
          "output_type": "stream",
          "name": "stderr",
          "text": [
            "/tmp/ipython-input-2650378709.py:12: SettingWithCopyWarning: \n",
            "A value is trying to be set on a copy of a slice from a DataFrame.\n",
            "Try using .loc[row_indexer,col_indexer] = value instead\n",
            "\n",
            "See the caveats in the documentation: https://pandas.pydata.org/pandas-docs/stable/user_guide/indexing.html#returning-a-view-versus-a-copy\n",
            "  newdf['tags'] = newdf['tags'].apply(stem)\n"
          ]
        }
      ]
    },
    {
      "cell_type": "markdown",
      "metadata": {
        "id": "9e218ac2"
      },
      "source": [
        "## 12. Vectorizing Text Data\n",
        "\n",
        "We use `CountVectorizer` from the scikit-learn library to convert the text data in the 'tags' column into a matrix of token counts. We limit the number of features to 5000 and remove English stop words to reduce noise and computational complexity."
      ]
    },
    {
      "cell_type": "code",
      "metadata": {
        "colab": {
          "base_uri": "https://localhost:8080/"
        },
        "id": "17c38216",
        "outputId": "0da671f9-0c71-468a-cd66-ead2051220fa"
      },
      "source": [
        "from sklearn.feature_extraction.text import CountVectorizer\n",
        "\n",
        "cv = CountVectorizer(max_features=5000, stop_words='english')\n",
        "vectors = cv.fit_transform(newdf['tags']).toarray()\n",
        "\n",
        "print(\"\\nShape of the vectors matrix:\", vectors.shape)\n",
        "print(\"\\nTop 50 features:\")\n",
        "print(cv.get_feature_names_out()[:50])"
      ],
      "execution_count": 29,
      "outputs": [
        {
          "output_type": "stream",
          "name": "stdout",
          "text": [
            "\n",
            "Shape of the vectors matrix: (4806, 5000)\n",
            "\n",
            "Top 50 features:\n",
            "['000' '007' '10' '100' '11' '12' '13' '14' '15' '16' '17' '17th' '18'\n",
            " '18th' '18thcenturi' '19' '1910' '1920' '1930' '1940' '1944' '1950'\n",
            " '1950s' '1960' '1960s' '1970' '1970s' '1971' '1974' '1976' '1980' '1985'\n",
            " '1990' '1999' '19th' '19thcenturi' '20' '200' '2003' '2009' '20th' '21st'\n",
            " '23' '24' '25' '30' '300' '3d' '40' '50']\n"
          ]
        }
      ]
    },
    {
      "cell_type": "markdown",
      "metadata": {
        "id": "a0ca507d"
      },
      "source": [
        "## 13. Calculating Cosine Similarity\n",
        "\n",
        "We calculate the cosine similarity between the movie vectors to determine the similarity between movies based on their tags. Cosine similarity measures the cosine of the angle between two non-zero vectors, providing a measure of their similarity."
      ]
    },
    {
      "cell_type": "code",
      "metadata": {
        "colab": {
          "base_uri": "https://localhost:8080/"
        },
        "id": "d57c35ea",
        "outputId": "6bf66eb3-3c26-41e4-fb9b-76f9716831dc"
      },
      "source": [
        "from sklearn.metrics.pairwise import cosine_similarity\n",
        "\n",
        "similarity = cosine_similarity(vectors)\n",
        "\n",
        "print(\"\\nCosine similarity matrix:\")\n",
        "print(similarity.shape)"
      ],
      "execution_count": 30,
      "outputs": [
        {
          "output_type": "stream",
          "name": "stdout",
          "text": [
            "\n",
            "Cosine similarity matrix:\n",
            "(4806, 4806)\n"
          ]
        }
      ]
    },
    {
      "cell_type": "markdown",
      "metadata": {
        "id": "39642155"
      },
      "source": [
        "## 14. Creating a Recommendation Function\n",
        "\n",
        "We define a Python function `recommend` that takes a movie title as input and returns the top 5 most similar movies based on the calculated cosine similarity. The function finds the index of the input movie, calculates the distance to all other movies using the similarity matrix, sorts the movies based on similarity, and returns the titles of the top 5 most similar movies (excluding the input movie itself)."
      ]
    },
    {
      "cell_type": "code",
      "metadata": {
        "id": "3c9913ab"
      },
      "source": [
        "def recommend(movie):\n",
        "    movie_index = newdf[newdf['title'] == movie].index[0]\n",
        "    distance = similarity[movie_index]\n",
        "    movie_list = sorted(list(enumerate(distance)), reverse=True, key=lambda x: x[1])[1:6]\n",
        "\n",
        "    print(f\"\\nRecommendations for '{movie}':\")\n",
        "    for i in movie_list:\n",
        "        print(newdf.iloc[i[0]].title)"
      ],
      "execution_count": 31,
      "outputs": []
    },
    {
      "cell_type": "markdown",
      "metadata": {
        "id": "0689ad84"
      },
      "source": [
        "## 15. Testing the Recommendation Function\n",
        "\n",
        "Finally, we test the `recommend` function with an example movie title, \"Avatar\", to see the recommendations."
      ]
    },
    {
      "cell_type": "code",
      "metadata": {
        "colab": {
          "base_uri": "https://localhost:8080/"
        },
        "id": "343dca2d",
        "outputId": "58f619d0-180b-4cc6-a6e1-2c2332e3e634"
      },
      "source": [
        "recommend('Avatar')"
      ],
      "execution_count": 41,
      "outputs": [
        {
          "output_type": "stream",
          "name": "stdout",
          "text": [
            "\n",
            "Recommendations for 'Avatar':\n",
            "Aliens vs Predator: Requiem\n",
            "Aliens\n",
            "Falcon Rising\n",
            "Independence Day\n",
            "Titan A.E.\n"
          ]
        }
      ]
    },
    {
      "cell_type": "code",
      "source": [
        "import pickle"
      ],
      "metadata": {
        "id": "MzKiQE1BYEbm"
      },
      "execution_count": 42,
      "outputs": []
    },
    {
      "cell_type": "code",
      "source": [
        "pickle.dump(newdf,open('movie_list.pkl','wb'))\n",
        "pickle.dump(similarity,open('similarity.pkl','wb'))"
      ],
      "metadata": {
        "id": "qFh7WezIYF0c"
      },
      "execution_count": 46,
      "outputs": []
    },
    {
      "cell_type": "code",
      "source": [
        "pickle.dump(newdf.to_dict(), open('movie_dict.pkl', 'wb'))"
      ],
      "metadata": {
        "id": "2-nSfbkYYIlQ"
      },
      "execution_count": 49,
      "outputs": []
    },
    {
      "cell_type": "code",
      "source": [],
      "metadata": {
        "id": "sQEVjemYZi1a"
      },
      "execution_count": null,
      "outputs": []
    }
  ]
}